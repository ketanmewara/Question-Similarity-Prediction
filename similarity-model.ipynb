{
 "cells": [
  {
   "cell_type": "code",
   "execution_count": 1,
   "metadata": {
    "execution": {
     "iopub.execute_input": "2022-08-07T06:03:04.776804Z",
     "iopub.status.busy": "2022-08-07T06:03:04.776271Z",
     "iopub.status.idle": "2022-08-07T06:03:05.614522Z",
     "shell.execute_reply": "2022-08-07T06:03:05.612433Z",
     "shell.execute_reply.started": "2022-08-07T06:03:04.776702Z"
    }
   },
   "outputs": [],
   "source": [
    "import numpy as np\n",
    "import pandas as pd\n",
    "from sklearn.metrics.pairwise import cosine_similarity\n",
    "from bs4 import BeautifulSoup\n",
    "import re"
   ]
  },
  {
   "cell_type": "markdown",
   "metadata": {},
   "source": [
    "## Dataset"
   ]
  },
  {
   "cell_type": "code",
   "execution_count": 2,
   "metadata": {
    "execution": {
     "iopub.execute_input": "2022-08-07T06:03:05.618630Z",
     "iopub.status.busy": "2022-08-07T06:03:05.617540Z",
     "iopub.status.idle": "2022-08-07T06:03:07.821395Z",
     "shell.execute_reply": "2022-08-07T06:03:07.819984Z",
     "shell.execute_reply.started": "2022-08-07T06:03:05.618561Z"
    },
    "tags": []
   },
   "outputs": [],
   "source": [
    "train_data = pd.read_csv('../input/quora-question-pairs/train.csv.zip')\n",
    "train_data.head()"
   ]
  },
  {
   "cell_type": "code",
   "execution_count": 3,
   "metadata": {
    "execution": {
     "iopub.execute_input": "2022-08-07T06:03:07.823906Z",
     "iopub.status.busy": "2022-08-07T06:03:07.823238Z",
     "iopub.status.idle": "2022-08-07T06:03:07.831573Z",
     "shell.execute_reply": "2022-08-07T06:03:07.830341Z",
     "shell.execute_reply.started": "2022-08-07T06:03:07.823860Z"
    }
   },
   "outputs": [],
   "source": [
    "train_data.shape"
   ]
  },
  {
   "cell_type": "markdown",
   "metadata": {},
   "source": [
    "## Take Randomly 50000 Data Samples"
   ]
  },
  {
   "cell_type": "code",
   "execution_count": 4,
   "metadata": {
    "execution": {
     "iopub.execute_input": "2022-08-07T06:03:07.835299Z",
     "iopub.status.busy": "2022-08-07T06:03:07.834872Z",
     "iopub.status.idle": "2022-08-07T06:03:07.888010Z",
     "shell.execute_reply": "2022-08-07T06:03:07.886416Z",
     "shell.execute_reply.started": "2022-08-07T06:03:07.835265Z"
    },
    "tags": []
   },
   "outputs": [],
   "source": [
    "sample_data = train_data.sample(50000, random_state=2)\n",
    "sample_data.head()"
   ]
  },
  {
   "cell_type": "code",
   "execution_count": 5,
   "metadata": {
    "execution": {
     "iopub.execute_input": "2022-08-07T06:03:07.890717Z",
     "iopub.status.busy": "2022-08-07T06:03:07.889922Z",
     "iopub.status.idle": "2022-08-07T06:03:07.919608Z",
     "shell.execute_reply": "2022-08-07T06:03:07.918277Z",
     "shell.execute_reply.started": "2022-08-07T06:03:07.890668Z"
    },
    "tags": []
   },
   "outputs": [],
   "source": [
    "sample_data.isnull().sum()"
   ]
  },
  {
   "cell_type": "code",
   "execution_count": 6,
   "metadata": {
    "execution": {
     "iopub.execute_input": "2022-08-07T06:03:07.921944Z",
     "iopub.status.busy": "2022-08-07T06:03:07.921482Z",
     "iopub.status.idle": "2022-08-07T06:03:08.149694Z",
     "shell.execute_reply": "2022-08-07T06:03:08.148231Z",
     "shell.execute_reply.started": "2022-08-07T06:03:07.921900Z"
    },
    "tags": []
   },
   "outputs": [],
   "source": [
    "train_data = train_data.dropna().reset_index(drop=True)\n",
    "train_data.isnull().sum()"
   ]
  },
  {
   "cell_type": "markdown",
   "metadata": {},
   "source": [
    "## Data Preprocessing"
   ]
  },
  {
   "cell_type": "code",
   "execution_count": 7,
   "metadata": {
    "execution": {
     "iopub.execute_input": "2022-08-07T06:03:08.152486Z",
     "iopub.status.busy": "2022-08-07T06:03:08.151977Z",
     "iopub.status.idle": "2022-08-07T06:03:08.177042Z",
     "shell.execute_reply": "2022-08-07T06:03:08.175481Z",
     "shell.execute_reply.started": "2022-08-07T06:03:08.152439Z"
    },
    "tags": []
   },
   "outputs": [],
   "source": [
    "def preprocess(data):\n",
    "    \n",
    "    data = str(data).lower().strip()\n",
    "    \n",
    "    # Replace special characters with their string edatauivalents.\n",
    "    data = data.replace('%', ' percent')\n",
    "    data = data.replace('$', ' dollar ')\n",
    "    data = data.replace('₹', ' rupee ')\n",
    "    data = data.replace('€', ' euro ')\n",
    "    data = data.replace('@', ' at ')\n",
    "    data = data.replace('#', '')\n",
    "    data = data.replace('u.s.', 'usa')\n",
    "    \n",
    "    # The pattern '[math]' appears around 900 times in the whole dataset.\n",
    "    data = data.replace('[math]', '')\n",
    "    \n",
    "    # Decontracting words\n",
    "    # https://en.wikipedia.org/wiki/Wikipedia%3aList_of_English_contractions\n",
    "    # https://stackoverflow.com/a/19794953\n",
    "    contractions = { \n",
    "    \"ain't\": \"am not\",\n",
    "    \"aren't\": \"are not\",\n",
    "    \"can't\": \"can not\",\n",
    "    \"can't've\": \"can not have\",\n",
    "    \"'cause\": \"because\",\n",
    "    \"could've\": \"could have\",\n",
    "    \"couldn't\": \"could not\",\n",
    "    \"couldn't've\": \"could not have\",\n",
    "    \"didn't\": \"did not\",\n",
    "    \"doesn't\": \"does not\",\n",
    "    \"don't\": \"do not\",\n",
    "    \"hadn't\": \"had not\",\n",
    "    \"hadn't've\": \"had not have\",\n",
    "    \"hasn't\": \"has not\",\n",
    "    \"haven't\": \"have not\",\n",
    "    \"he'd\": \"he would\",\n",
    "    \"he'd've\": \"he would have\",\n",
    "    \"he'll\": \"he will\",\n",
    "    \"he'll've\": \"he will have\",\n",
    "    \"he's\": \"he is\",\n",
    "    \"how'd\": \"how did\",\n",
    "    \"how'd'y\": \"how do you\",\n",
    "    \"how'll\": \"how will\",\n",
    "    \"how's\": \"how is\",\n",
    "    \"i'd\": \"i would\",\n",
    "    \"i'd've\": \"i would have\",\n",
    "    \"i'll\": \"i will\",\n",
    "    \"i'll've\": \"i will have\",\n",
    "    \"i'm\": \"i am\",\n",
    "    \"i've\": \"i have\",\n",
    "    \"isn't\": \"is not\",\n",
    "    \"it'd\": \"it would\",\n",
    "    \"it'd've\": \"it would have\",\n",
    "    \"it'll\": \"it will\",\n",
    "    \"it'll've\": \"it will have\",\n",
    "    \"it's\": \"it is\",\n",
    "    \"let's\": \"let us\",\n",
    "    \"ma'am\": \"madam\",\n",
    "    \"mayn't\": \"may not\",\n",
    "    \"might've\": \"might have\",\n",
    "    \"mightn't\": \"might not\",\n",
    "    \"mightn't've\": \"might not have\",\n",
    "    \"must've\": \"must have\",\n",
    "    \"mustn't\": \"must not\",\n",
    "    \"mustn't've\": \"must not have\",\n",
    "    \"needn't\": \"need not\",\n",
    "    \"needn't've\": \"need not have\",\n",
    "    \"o'clock\": \"of the clock\",\n",
    "    \"oughtn't\": \"ought not\",\n",
    "    \"oughtn't've\": \"ought not have\",\n",
    "    \"shan't\": \"shall not\",\n",
    "    \"sha'n't\": \"shall not\",\n",
    "    \"shan't've\": \"shall not have\",\n",
    "    \"she'd\": \"she would\",\n",
    "    \"she'd've\": \"she would have\",\n",
    "    \"she'll\": \"she will\",\n",
    "    \"she'll've\": \"she will have\",\n",
    "    \"she's\": \"she is\",\n",
    "    \"should've\": \"should have\",\n",
    "    \"shouldn't\": \"should not\",\n",
    "    \"shouldn't've\": \"should not have\",\n",
    "    \"so've\": \"so have\",\n",
    "    \"so's\": \"so as\",\n",
    "    \"that'd\": \"that would\",\n",
    "    \"that'd've\": \"that would have\",\n",
    "    \"that's\": \"that is\",\n",
    "    \"there'd\": \"there would\",\n",
    "    \"there'd've\": \"there would have\",\n",
    "    \"there's\": \"there is\",\n",
    "    \"they'd\": \"they would\",\n",
    "    \"they'd've\": \"they would have\",\n",
    "    \"they'll\": \"they will\",\n",
    "    \"they'll've\": \"they will have\",\n",
    "    \"they're\": \"they are\",\n",
    "    \"they've\": \"they have\",\n",
    "    \"to've\": \"to have\",\n",
    "    \"wasn't\": \"was not\",\n",
    "    \"we'd\": \"we would\",\n",
    "    \"we'd've\": \"we would have\",\n",
    "    \"we'll\": \"we will\",\n",
    "    \"we'll've\": \"we will have\",\n",
    "    \"we're\": \"we are\",\n",
    "    \"we've\": \"we have\",\n",
    "    \"weren't\": \"were not\",\n",
    "    \"what'll\": \"what will\",\n",
    "    \"what'll've\": \"what will have\",\n",
    "    \"what're\": \"what are\",\n",
    "    \"what's\": \"what is\",\n",
    "    \"what've\": \"what have\",\n",
    "    \"when's\": \"when is\",\n",
    "    \"when've\": \"when have\",\n",
    "    \"where'd\": \"where did\",\n",
    "    \"where's\": \"where is\",\n",
    "    \"where've\": \"where have\",\n",
    "    \"who'll\": \"who will\",\n",
    "    \"who'll've\": \"who will have\",\n",
    "    \"who's\": \"who is\",\n",
    "    \"who've\": \"who have\",\n",
    "    \"why's\": \"why is\",\n",
    "    \"why've\": \"why have\",\n",
    "    \"will've\": \"will have\",\n",
    "    \"won't\": \"will not\",\n",
    "    \"won't've\": \"will not have\",\n",
    "    \"would've\": \"would have\",\n",
    "    \"wouldn't\": \"would not\",\n",
    "    \"wouldn't've\": \"would not have\",\n",
    "    \"y'all\": \"you all\",\n",
    "    \"y'all'd\": \"you all would\",\n",
    "    \"y'all'd've\": \"you all would have\",\n",
    "    \"y'all're\": \"you all are\",\n",
    "    \"y'all've\": \"you all have\",\n",
    "    \"you'd\": \"you would\",\n",
    "    \"you'd've\": \"you would have\",\n",
    "    \"you'll\": \"you will\",\n",
    "    \"you'll've\": \"you will have\",\n",
    "    \"you're\": \"you are\",\n",
    "    \"you've\": \"you have\"\n",
    "    }\n",
    "\n",
    "    data_decontracted = []\n",
    "\n",
    "    for word in data.split():\n",
    "        if word in contractions:\n",
    "            word = contractions[word]\n",
    "\n",
    "        data_decontracted.append(word)\n",
    "\n",
    "    data = ' '.join(data_decontracted)\n",
    "    data = data.replace(\"'ve\", \" have\")\n",
    "    data = data.replace(\"n't\", \" not\")\n",
    "    data = data.replace(\"'re\", \" are\")\n",
    "    data = data.replace(\"'ll\", \" will\")\n",
    "    \n",
    "    # Removing HTML tags\n",
    "    data = BeautifulSoup(data)\n",
    "    data = data.get_text()\n",
    "    \n",
    "    # Remove punctuations\n",
    "    pattern = re.compile('\\W')\n",
    "    data = re.sub(pattern, ' ', data).strip()\n",
    "\n",
    "    \n",
    "    return data"
   ]
  },
  {
   "cell_type": "code",
   "execution_count": 8,
   "metadata": {
    "execution": {
     "iopub.execute_input": "2022-08-07T06:03:08.179604Z",
     "iopub.status.busy": "2022-08-07T06:03:08.179052Z",
     "iopub.status.idle": "2022-08-07T06:03:34.950820Z",
     "shell.execute_reply": "2022-08-07T06:03:34.949556Z",
     "shell.execute_reply.started": "2022-08-07T06:03:08.179545Z"
    },
    "tags": []
   },
   "outputs": [],
   "source": [
    "sample_data['question1'] = sample_data['question1'].apply(preprocess)\n",
    "sample_data['question2'] = sample_data['question2'].apply(preprocess)"
   ]
  },
  {
   "cell_type": "code",
   "execution_count": 9,
   "metadata": {
    "execution": {
     "iopub.execute_input": "2022-08-07T06:03:34.952861Z",
     "iopub.status.busy": "2022-08-07T06:03:34.952464Z",
     "iopub.status.idle": "2022-08-07T06:03:34.968575Z",
     "shell.execute_reply": "2022-08-07T06:03:34.967355Z",
     "shell.execute_reply.started": "2022-08-07T06:03:34.952828Z"
    },
    "tags": []
   },
   "outputs": [],
   "source": [
    "sample_data.head()"
   ]
  },
  {
   "cell_type": "code",
   "execution_count": 10,
   "metadata": {
    "execution": {
     "iopub.execute_input": "2022-08-07T06:03:34.974301Z",
     "iopub.status.busy": "2022-08-07T06:03:34.973506Z",
     "iopub.status.idle": "2022-08-07T06:03:34.993205Z",
     "shell.execute_reply": "2022-08-07T06:03:34.992181Z",
     "shell.execute_reply.started": "2022-08-07T06:03:34.974265Z"
    }
   },
   "outputs": [],
   "source": [
    "sample_data.drop(['id','qid1','qid2','is_duplicate'],axis=1,inplace=True)"
   ]
  },
  {
   "cell_type": "code",
   "execution_count": 11,
   "metadata": {
    "execution": {
     "iopub.execute_input": "2022-08-07T06:03:34.997103Z",
     "iopub.status.busy": "2022-08-07T06:03:34.996289Z",
     "iopub.status.idle": "2022-08-07T06:03:35.009599Z",
     "shell.execute_reply": "2022-08-07T06:03:35.008599Z",
     "shell.execute_reply.started": "2022-08-07T06:03:34.997050Z"
    }
   },
   "outputs": [],
   "source": [
    "sample_data.head()"
   ]
  },
  {
   "cell_type": "code",
   "execution_count": 12,
   "metadata": {
    "execution": {
     "iopub.execute_input": "2022-08-07T06:03:35.012364Z",
     "iopub.status.busy": "2022-08-07T06:03:35.011459Z",
     "iopub.status.idle": "2022-08-07T06:03:35.016835Z",
     "shell.execute_reply": "2022-08-07T06:03:35.015242Z",
     "shell.execute_reply.started": "2022-08-07T06:03:35.012328Z"
    }
   },
   "outputs": [],
   "source": [
    "# questions = list(sample_data['question1'])+list(sample_data['question2'])\n",
    "# len(questions)"
   ]
  },
  {
   "cell_type": "code",
   "execution_count": 13,
   "metadata": {
    "execution": {
     "iopub.execute_input": "2022-08-07T06:03:35.019638Z",
     "iopub.status.busy": "2022-08-07T06:03:35.018882Z",
     "iopub.status.idle": "2022-08-07T06:03:35.038831Z",
     "shell.execute_reply": "2022-08-07T06:03:35.037931Z",
     "shell.execute_reply.started": "2022-08-07T06:03:35.019601Z"
    }
   },
   "outputs": [],
   "source": [
    "new_df = sample_data.copy().reset_index(drop=True)\n",
    "new_df.head()"
   ]
  },
  {
   "cell_type": "markdown",
   "metadata": {},
   "source": [
    "## Tokenization"
   ]
  },
  {
   "cell_type": "code",
   "execution_count": 14,
   "metadata": {
    "execution": {
     "iopub.execute_input": "2022-08-07T06:03:35.040564Z",
     "iopub.status.busy": "2022-08-07T06:03:35.040060Z",
     "iopub.status.idle": "2022-08-07T06:03:35.276617Z",
     "shell.execute_reply": "2022-08-07T06:03:35.275694Z",
     "shell.execute_reply.started": "2022-08-07T06:03:35.040534Z"
    }
   },
   "outputs": [],
   "source": [
    "tokenized_question1 = new_df['question1'].apply(lambda x: x.split()) #tokenizing\n",
    "tokenized_question1.head()"
   ]
  },
  {
   "cell_type": "code",
   "execution_count": 15,
   "metadata": {
    "execution": {
     "iopub.execute_input": "2022-08-07T06:03:35.278331Z",
     "iopub.status.busy": "2022-08-07T06:03:35.277827Z",
     "iopub.status.idle": "2022-08-07T06:03:35.379906Z",
     "shell.execute_reply": "2022-08-07T06:03:35.378830Z",
     "shell.execute_reply.started": "2022-08-07T06:03:35.278298Z"
    }
   },
   "outputs": [],
   "source": [
    "tokenized_question2 = new_df['question2'].apply(lambda x: x.split()) #tokenizing\n",
    "tokenized_question2.head()"
   ]
  },
  {
   "cell_type": "markdown",
   "metadata": {},
   "source": [
    "## Lemmatization"
   ]
  },
  {
   "cell_type": "code",
   "execution_count": 16,
   "metadata": {
    "execution": {
     "iopub.execute_input": "2022-08-07T06:03:35.381860Z",
     "iopub.status.busy": "2022-08-07T06:03:35.381429Z",
     "iopub.status.idle": "2022-08-07T06:03:36.651245Z",
     "shell.execute_reply": "2022-08-07T06:03:36.650085Z",
     "shell.execute_reply.started": "2022-08-07T06:03:35.381826Z"
    }
   },
   "outputs": [],
   "source": [
    "from nltk.stem import WordNetLemmatizer\n",
    "import nltk\n",
    "nltk.download('wordnet')\n",
    "nltk.download('omw-1.4')\n",
    "lemmaObj = WordNetLemmatizer()"
   ]
  },
  {
   "cell_type": "code",
   "execution_count": 17,
   "metadata": {
    "execution": {
     "iopub.execute_input": "2022-08-07T06:03:36.653196Z",
     "iopub.status.busy": "2022-08-07T06:03:36.652748Z",
     "iopub.status.idle": "2022-08-07T06:03:41.500306Z",
     "shell.execute_reply": "2022-08-07T06:03:41.498934Z",
     "shell.execute_reply.started": "2022-08-07T06:03:36.653161Z"
    }
   },
   "outputs": [],
   "source": [
    "lemma_tokenized_q1 = tokenized_question1.apply(lambda x: [lemmaObj.lemmatize(word,pos='v') for word in x])\n",
    "lemma_tokenized_q1.head()"
   ]
  },
  {
   "cell_type": "code",
   "execution_count": 18,
   "metadata": {
    "execution": {
     "iopub.execute_input": "2022-08-07T06:03:41.505474Z",
     "iopub.status.busy": "2022-08-07T06:03:41.502693Z",
     "iopub.status.idle": "2022-08-07T06:03:44.276759Z",
     "shell.execute_reply": "2022-08-07T06:03:44.275359Z",
     "shell.execute_reply.started": "2022-08-07T06:03:41.505398Z"
    }
   },
   "outputs": [],
   "source": [
    "lemma_tokenized_q2 = tokenized_question2.apply(lambda x: [lemmaObj.lemmatize(word,pos='v') for word in x])\n",
    "lemma_tokenized_q2.head()"
   ]
  },
  {
   "cell_type": "code",
   "execution_count": 19,
   "metadata": {
    "execution": {
     "iopub.execute_input": "2022-08-07T06:03:44.278584Z",
     "iopub.status.busy": "2022-08-07T06:03:44.278228Z",
     "iopub.status.idle": "2022-08-07T06:03:44.323083Z",
     "shell.execute_reply": "2022-08-07T06:03:44.322228Z",
     "shell.execute_reply.started": "2022-08-07T06:03:44.278551Z"
    }
   },
   "outputs": [],
   "source": [
    "new_df['lemma_q1'] = lemma_tokenized_q1\n",
    "new_df['lemma_q1'] = new_df['lemma_q1'].apply(lambda x: ' '.join(x))"
   ]
  },
  {
   "cell_type": "code",
   "execution_count": 20,
   "metadata": {
    "execution": {
     "iopub.execute_input": "2022-08-07T06:03:44.325170Z",
     "iopub.status.busy": "2022-08-07T06:03:44.324546Z",
     "iopub.status.idle": "2022-08-07T06:03:44.366433Z",
     "shell.execute_reply": "2022-08-07T06:03:44.365223Z",
     "shell.execute_reply.started": "2022-08-07T06:03:44.325134Z"
    }
   },
   "outputs": [],
   "source": [
    "new_df['lemma_q2'] = lemma_tokenized_q2\n",
    "new_df['lemma_q2'] = new_df['lemma_q2'].apply(lambda x: ' '.join(x))"
   ]
  },
  {
   "cell_type": "code",
   "execution_count": 21,
   "metadata": {
    "execution": {
     "iopub.execute_input": "2022-08-07T06:03:44.369016Z",
     "iopub.status.busy": "2022-08-07T06:03:44.367982Z",
     "iopub.status.idle": "2022-08-07T06:03:44.383134Z",
     "shell.execute_reply": "2022-08-07T06:03:44.381829Z",
     "shell.execute_reply.started": "2022-08-07T06:03:44.368965Z"
    }
   },
   "outputs": [],
   "source": [
    "new_df.head()"
   ]
  },
  {
   "cell_type": "code",
   "execution_count": 22,
   "metadata": {
    "execution": {
     "iopub.execute_input": "2022-08-07T06:03:44.385156Z",
     "iopub.status.busy": "2022-08-07T06:03:44.384414Z",
     "iopub.status.idle": "2022-08-07T06:03:44.407383Z",
     "shell.execute_reply": "2022-08-07T06:03:44.406522Z",
     "shell.execute_reply.started": "2022-08-07T06:03:44.385116Z"
    }
   },
   "outputs": [],
   "source": [
    "lemma_questions = list(new_df['lemma_q1'])+list(new_df['lemma_q2'])\n",
    "len(lemma_questions)"
   ]
  },
  {
   "cell_type": "code",
   "execution_count": 81,
   "metadata": {
    "execution": {
     "iopub.execute_input": "2022-08-07T06:43:22.582475Z",
     "iopub.status.busy": "2022-08-07T06:43:22.581566Z",
     "iopub.status.idle": "2022-08-07T06:43:22.619388Z",
     "shell.execute_reply": "2022-08-07T06:43:22.618101Z",
     "shell.execute_reply.started": "2022-08-07T06:43:22.582414Z"
    }
   },
   "outputs": [],
   "source": [
    "unique_questions = list(set(lemma_questions))\n",
    "len(unique_questions)"
   ]
  },
  {
   "cell_type": "markdown",
   "metadata": {},
   "source": [
    "## Model Building"
   ]
  },
  {
   "cell_type": "code",
   "execution_count": 23,
   "metadata": {
    "execution": {
     "iopub.execute_input": "2022-08-07T06:03:44.409319Z",
     "iopub.status.busy": "2022-08-07T06:03:44.408406Z",
     "iopub.status.idle": "2022-08-07T06:03:59.958286Z",
     "shell.execute_reply": "2022-08-07T06:03:59.956820Z",
     "shell.execute_reply.started": "2022-08-07T06:03:44.409284Z"
    }
   },
   "outputs": [],
   "source": [
    "pip install sentence-transformers"
   ]
  },
  {
   "cell_type": "code",
   "execution_count": 24,
   "metadata": {
    "execution": {
     "iopub.execute_input": "2022-08-07T06:03:59.961652Z",
     "iopub.status.busy": "2022-08-07T06:03:59.960410Z",
     "iopub.status.idle": "2022-08-07T06:11:35.123698Z",
     "shell.execute_reply": "2022-08-07T06:11:35.122423Z",
     "shell.execute_reply.started": "2022-08-07T06:03:59.961608Z"
    }
   },
   "outputs": [],
   "source": [
    "from sentence_transformers import SentenceTransformer\n",
    "# sentences = [\"This is an example sentence\", \"Each sentence is converted\",\"this is an example of multiple sentences\"]\n",
    "\n",
    "model = SentenceTransformer('sentence-transformers/all-MiniLM-L6-v2')\n",
    "embeddings = model.encode(unique_questions)\n",
    "print(embeddings)"
   ]
  },
  {
   "cell_type": "code",
   "execution_count": 56,
   "metadata": {
    "execution": {
     "iopub.execute_input": "2022-08-07T06:29:51.210464Z",
     "iopub.status.busy": "2022-08-07T06:29:51.210073Z",
     "iopub.status.idle": "2022-08-07T06:29:51.223547Z",
     "shell.execute_reply": "2022-08-07T06:29:51.221943Z",
     "shell.execute_reply.started": "2022-08-07T06:29:51.210431Z"
    }
   },
   "outputs": [],
   "source": [
    "def similarity_scorer(question):\n",
    "    question = preprocess(question)\n",
    "    input_vectors = model.encode(question)\n",
    "    similarity_score = cosine_similarity([input_vectors],embeddings)\n",
    "    top_similar = sorted(list(enumerate(similarity_score[0])),reverse=True, key=lambda x:x[1])\n",
    "    for i in top_similar[:10]:\n",
    "        ques = lemma_questions[i[0]]\n",
    "        print(ques,\":\",i[1])"
   ]
  },
  {
   "cell_type": "code",
   "execution_count": 57,
   "metadata": {
    "execution": {
     "iopub.execute_input": "2022-08-07T06:29:54.167339Z",
     "iopub.status.busy": "2022-08-07T06:29:54.165801Z",
     "iopub.status.idle": "2022-08-07T06:29:54.173280Z",
     "shell.execute_reply": "2022-08-07T06:29:54.172185Z",
     "shell.execute_reply.started": "2022-08-07T06:29:54.167274Z"
    }
   },
   "outputs": [],
   "source": [
    "question11 = ['How to earn money from online.']"
   ]
  },
  {
   "cell_type": "code",
   "execution_count": 58,
   "metadata": {
    "execution": {
     "iopub.execute_input": "2022-08-07T06:29:56.541182Z",
     "iopub.status.busy": "2022-08-07T06:29:56.540656Z",
     "iopub.status.idle": "2022-08-07T06:29:57.012367Z",
     "shell.execute_reply": "2022-08-07T06:29:57.011110Z",
     "shell.execute_reply.started": "2022-08-07T06:29:56.541136Z"
    }
   },
   "outputs": [],
   "source": [
    "similarity_scorer(question11)"
   ]
  },
  {
   "cell_type": "code",
   "execution_count": 32,
   "metadata": {
    "execution": {
     "iopub.execute_input": "2022-08-07T06:13:17.655754Z",
     "iopub.status.busy": "2022-08-07T06:13:17.655060Z",
     "iopub.status.idle": "2022-08-07T06:13:18.148076Z",
     "shell.execute_reply": "2022-08-07T06:13:18.146618Z",
     "shell.execute_reply.started": "2022-08-07T06:13:17.655706Z"
    }
   },
   "outputs": [],
   "source": [
    "import pickle\n",
    "\n",
    "pickle.dump(model,open('model.pkl','wb'))\n",
    "pickle.dump(embeddings,open('embeddings.pkl','wb'))"
   ]
  }
 ],
 "metadata": {
  "kernelspec": {
   "display_name": "Python 3 (ipykernel)",
   "language": "python",
   "name": "python3"
  },
  "language_info": {
   "codemirror_mode": {
    "name": "ipython",
    "version": 3
   },
   "file_extension": ".py",
   "mimetype": "text/x-python",
   "name": "python",
   "nbconvert_exporter": "python",
   "pygments_lexer": "ipython3",
   "version": "3.9.12"
  }
 },
 "nbformat": 4,
 "nbformat_minor": 4
}
