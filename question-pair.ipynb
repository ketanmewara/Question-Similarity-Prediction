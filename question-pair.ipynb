{
 "cells": [
  {
   "cell_type": "code",
   "execution_count": 1,
   "metadata": {
    "_cell_guid": "b1076dfc-b9ad-4769-8c92-a6c4dae69d19",
    "_uuid": "8f2839f25d086af736a60e9eeb907d3b93b6e0e5",
    "execution": {
     "iopub.execute_input": "2022-08-09T16:09:41.646130Z",
     "iopub.status.busy": "2022-08-09T16:09:41.645721Z",
     "iopub.status.idle": "2022-08-09T16:09:41.668892Z",
     "shell.execute_reply": "2022-08-09T16:09:41.667880Z",
     "shell.execute_reply.started": "2022-08-09T16:09:41.646051Z"
    }
   },
   "outputs": [],
   "source": [
    "# This Python 3 environment comes with many helpful analytics libraries installed\n",
    "# It is defined by the kaggle/python Docker image: https://github.com/kaggle/docker-python\n",
    "# For example, here's several helpful packages to load\n",
    "\n",
    "import numpy as np # linear algebra\n",
    "import pandas as pd # data processing, CSV file I/O (e.g. pd.read_csv)\n",
    "\n",
    "# Input data files are available in the read-only \"../input/\" directory\n",
    "# For example, running this (by clicking run or pressing Shift+Enter) will list all files under the input directory\n",
    "\n",
    "import os\n",
    "for dirname, _, filenames in os.walk('/kaggle/input'):\n",
    "    for filename in filenames:\n",
    "        print(os.path.join(dirname, filename))\n",
    "\n",
    "# You can write up to 20GB to the current directory (/kaggle/working/) that gets preserved as output when you create a version using \"Save & Run All\" \n",
    "# You can also write temporary files to /kaggle/temp/, but they won't be saved outside of the current session"
   ]
  },
  {
   "cell_type": "code",
   "execution_count": 2,
   "metadata": {
    "execution": {
     "iopub.execute_input": "2022-08-09T16:09:41.829271Z",
     "iopub.status.busy": "2022-08-09T16:09:41.828979Z",
     "iopub.status.idle": "2022-08-09T16:09:41.836378Z",
     "shell.execute_reply": "2022-08-09T16:09:41.835458Z",
     "shell.execute_reply.started": "2022-08-09T16:09:41.829245Z"
    }
   },
   "outputs": [],
   "source": [
    "import warnings\n",
    "warnings.filterwarnings(\"ignore\")"
   ]
  },
  {
   "cell_type": "code",
   "execution_count": 3,
   "metadata": {
    "execution": {
     "iopub.execute_input": "2022-08-09T16:09:42.069667Z",
     "iopub.status.busy": "2022-08-09T16:09:42.069242Z",
     "iopub.status.idle": "2022-08-09T16:09:55.069395Z",
     "shell.execute_reply": "2022-08-09T16:09:55.067365Z",
     "shell.execute_reply.started": "2022-08-09T16:09:42.069631Z"
    }
   },
   "outputs": [],
   "source": [
    "import numpy as np\n",
    "import pandas as pd\n",
    "import matplotlib.pyplot as plt\n",
    "import seaborn as sns\n",
    "from sklearn.feature_extraction.text import CountVectorizer, TfidfVectorizer\n",
    "from bs4 import BeautifulSoup\n",
    "import shutil\n",
    "import gensim\n",
    "import re\n",
    "import spacy\n",
    "from gensim.models import Word2Vec"
   ]
  },
  {
   "cell_type": "code",
   "execution_count": 4,
   "metadata": {
    "execution": {
     "iopub.execute_input": "2022-08-09T16:09:55.072646Z",
     "iopub.status.busy": "2022-08-09T16:09:55.071621Z",
     "iopub.status.idle": "2022-08-09T16:09:56.850212Z",
     "shell.execute_reply": "2022-08-09T16:09:56.849272Z",
     "shell.execute_reply.started": "2022-08-09T16:09:55.072608Z"
    }
   },
   "outputs": [],
   "source": [
    "train_data = pd.read_csv('../input/quora-question-pairs/train.csv.zip')\n",
    "train_data.head()"
   ]
  },
  {
   "cell_type": "code",
   "execution_count": 5,
   "metadata": {
    "execution": {
     "iopub.execute_input": "2022-08-09T16:09:56.852416Z",
     "iopub.status.busy": "2022-08-09T16:09:56.851788Z",
     "iopub.status.idle": "2022-08-09T16:09:56.859273Z",
     "shell.execute_reply": "2022-08-09T16:09:56.858274Z",
     "shell.execute_reply.started": "2022-08-09T16:09:56.852378Z"
    }
   },
   "outputs": [],
   "source": [
    "train_data.shape"
   ]
  },
  {
   "cell_type": "code",
   "execution_count": 6,
   "metadata": {
    "execution": {
     "iopub.execute_input": "2022-08-09T16:09:56.862741Z",
     "iopub.status.busy": "2022-08-09T16:09:56.862050Z",
     "iopub.status.idle": "2022-08-09T16:09:56.896472Z",
     "shell.execute_reply": "2022-08-09T16:09:56.895470Z",
     "shell.execute_reply.started": "2022-08-09T16:09:56.862697Z"
    }
   },
   "outputs": [],
   "source": [
    "sample_data = train_data.sample(25000, random_state=2)\n",
    "sample_data.head()"
   ]
  },
  {
   "cell_type": "code",
   "execution_count": 7,
   "metadata": {
    "execution": {
     "iopub.execute_input": "2022-08-09T16:09:56.898466Z",
     "iopub.status.busy": "2022-08-09T16:09:56.898106Z",
     "iopub.status.idle": "2022-08-09T16:09:56.914691Z",
     "shell.execute_reply": "2022-08-09T16:09:56.913449Z",
     "shell.execute_reply.started": "2022-08-09T16:09:56.898431Z"
    }
   },
   "outputs": [],
   "source": [
    "sample_data.isnull().sum()"
   ]
  },
  {
   "cell_type": "code",
   "execution_count": 8,
   "metadata": {
    "execution": {
     "iopub.execute_input": "2022-08-09T16:09:56.916726Z",
     "iopub.status.busy": "2022-08-09T16:09:56.916029Z",
     "iopub.status.idle": "2022-08-09T16:09:56.980441Z",
     "shell.execute_reply": "2022-08-09T16:09:56.979371Z",
     "shell.execute_reply.started": "2022-08-09T16:09:56.916689Z"
    }
   },
   "outputs": [],
   "source": [
    "train_data.isnull().sum()"
   ]
  },
  {
   "cell_type": "code",
   "execution_count": 9,
   "metadata": {
    "execution": {
     "iopub.execute_input": "2022-08-09T16:09:56.983573Z",
     "iopub.status.busy": "2022-08-09T16:09:56.981773Z",
     "iopub.status.idle": "2022-08-09T16:09:57.151987Z",
     "shell.execute_reply": "2022-08-09T16:09:57.150916Z",
     "shell.execute_reply.started": "2022-08-09T16:09:56.983531Z"
    }
   },
   "outputs": [],
   "source": [
    "train_data = train_data.dropna().reset_index(drop=True)\n",
    "train_data.isnull().sum()"
   ]
  },
  {
   "cell_type": "code",
   "execution_count": 10,
   "metadata": {
    "execution": {
     "iopub.execute_input": "2022-08-09T16:09:57.154167Z",
     "iopub.status.busy": "2022-08-09T16:09:57.153798Z",
     "iopub.status.idle": "2022-08-09T16:09:57.366541Z",
     "shell.execute_reply": "2022-08-09T16:09:57.365467Z",
     "shell.execute_reply.started": "2022-08-09T16:09:57.154131Z"
    }
   },
   "outputs": [],
   "source": [
    "q1 = ''.join(train_data['question1'])\n",
    "q2 = ''.join(train_data['question2'])"
   ]
  },
  {
   "cell_type": "code",
   "execution_count": 11,
   "metadata": {
    "execution": {
     "iopub.execute_input": "2022-08-09T16:09:57.369006Z",
     "iopub.status.busy": "2022-08-09T16:09:57.368083Z",
     "iopub.status.idle": "2022-08-09T16:09:57.433404Z",
     "shell.execute_reply": "2022-08-09T16:09:57.432374Z",
     "shell.execute_reply.started": "2022-08-09T16:09:57.368965Z"
    }
   },
   "outputs": [],
   "source": [
    "print('Number of occurrence of data2:', q1.count('[/math]'))\n",
    "print('Number of occurrence of data2:', q1.count('[math]'))\n",
    "print('Number of occurrence of data1:', q2.count('[/math]'))\n",
    "print('Number of occurrence of data1:', q2.count('[math]'))"
   ]
  },
  {
   "cell_type": "code",
   "execution_count": 12,
   "metadata": {
    "execution": {
     "iopub.execute_input": "2022-08-09T16:09:57.438958Z",
     "iopub.status.busy": "2022-08-09T16:09:57.438666Z",
     "iopub.status.idle": "2022-08-09T16:09:57.455268Z",
     "shell.execute_reply": "2022-08-09T16:09:57.454182Z",
     "shell.execute_reply.started": "2022-08-09T16:09:57.438932Z"
    }
   },
   "outputs": [],
   "source": [
    "sample_data[sample_data['is_duplicate']==0].head() #non dupication"
   ]
  },
  {
   "cell_type": "code",
   "execution_count": 13,
   "metadata": {
    "execution": {
     "iopub.execute_input": "2022-08-09T16:09:57.457421Z",
     "iopub.status.busy": "2022-08-09T16:09:57.456788Z",
     "iopub.status.idle": "2022-08-09T16:09:57.472282Z",
     "shell.execute_reply": "2022-08-09T16:09:57.471425Z",
     "shell.execute_reply.started": "2022-08-09T16:09:57.457386Z"
    }
   },
   "outputs": [],
   "source": [
    "sample_data[sample_data['is_duplicate']==1].head() #duplicate"
   ]
  },
  {
   "cell_type": "code",
   "execution_count": 14,
   "metadata": {
    "execution": {
     "iopub.execute_input": "2022-08-09T16:09:57.475808Z",
     "iopub.status.busy": "2022-08-09T16:09:57.475268Z",
     "iopub.status.idle": "2022-08-09T16:09:57.688262Z",
     "shell.execute_reply": "2022-08-09T16:09:57.687290Z",
     "shell.execute_reply.started": "2022-08-09T16:09:57.475783Z"
    }
   },
   "outputs": [],
   "source": [
    "print(round(sample_data.is_duplicate.value_counts()/len(sample_data)*100))\n",
    "sample_data.is_duplicate.value_counts().plot(kind='bar')"
   ]
  },
  {
   "cell_type": "markdown",
   "metadata": {},
   "source": [
    "#### label '1' denotes 37% the question is dupicate.\n",
    "#### label '0' denotes 63% the question is non dupicate"
   ]
  },
  {
   "cell_type": "code",
   "execution_count": 15,
   "metadata": {
    "execution": {
     "iopub.execute_input": "2022-08-09T16:09:57.690091Z",
     "iopub.status.busy": "2022-08-09T16:09:57.689757Z",
     "iopub.status.idle": "2022-08-09T16:09:57.718607Z",
     "shell.execute_reply": "2022-08-09T16:09:57.717604Z",
     "shell.execute_reply.started": "2022-08-09T16:09:57.690058Z"
    }
   },
   "outputs": [],
   "source": [
    "# Repeated questions\n",
    "\n",
    "qid = pd.Series(sample_data['qid1'].tolist() + sample_data['qid2'].tolist())\n",
    "print('Number of unique questions',np.unique(qid).shape[0])\n",
    "x = qid.value_counts()>1\n",
    "print('Number of questions getting repeated',x[x].shape[0])"
   ]
  },
  {
   "cell_type": "code",
   "execution_count": 16,
   "metadata": {
    "execution": {
     "iopub.execute_input": "2022-08-09T16:09:57.720657Z",
     "iopub.status.busy": "2022-08-09T16:09:57.720024Z",
     "iopub.status.idle": "2022-08-09T16:09:58.517240Z",
     "shell.execute_reply": "2022-08-09T16:09:58.516197Z",
     "shell.execute_reply.started": "2022-08-09T16:09:57.720624Z"
    }
   },
   "outputs": [],
   "source": [
    "import matplotlib.pyplot as plt\n",
    "import seaborn as sns\n",
    "\n",
    "# Repeated questions histogram\n",
    "\n",
    "plt.hist(qid.value_counts().values,bins=160)\n",
    "plt.yscale('log')\n",
    "plt.show()"
   ]
  },
  {
   "cell_type": "markdown",
   "metadata": {},
   "source": [
    "## Data Preprocessing and Cleaning"
   ]
  },
  {
   "cell_type": "code",
   "execution_count": 17,
   "metadata": {
    "execution": {
     "iopub.execute_input": "2022-08-09T16:09:58.519654Z",
     "iopub.status.busy": "2022-08-09T16:09:58.519297Z",
     "iopub.status.idle": "2022-08-09T16:09:58.540113Z",
     "shell.execute_reply": "2022-08-09T16:09:58.538372Z",
     "shell.execute_reply.started": "2022-08-09T16:09:58.519615Z"
    }
   },
   "outputs": [],
   "source": [
    "def preprocess(data):\n",
    "    \n",
    "    data = str(data).lower().strip()\n",
    "    \n",
    "    # Replace special characters with their string edatauivalents.\n",
    "    data = data.replace('%', ' percent')\n",
    "    data = data.replace('$', ' dollar ')\n",
    "    data = data.replace('₹', ' rupee ')\n",
    "    data = data.replace('€', ' euro ')\n",
    "    data = data.replace('@', ' at ')\n",
    "    data = data.replace('#', '')\n",
    "    data = data.replace('u.s.', 'usa')\n",
    "    \n",
    "    # The pattern '[math]' appears around 900 times in the whole dataset.\n",
    "    data = data.replace('[math]', '')\n",
    "    \n",
    "    # Decontracting words\n",
    "    # https://en.wikipedia.org/wiki/Wikipedia%3aList_of_English_contractions\n",
    "    # https://stackoverflow.com/a/19794953\n",
    "    contractions = { \n",
    "    \"ain't\": \"am not\",\n",
    "    \"aren't\": \"are not\",\n",
    "    \"can't\": \"can not\",\n",
    "    \"can't've\": \"can not have\",\n",
    "    \"'cause\": \"because\",\n",
    "    \"could've\": \"could have\",\n",
    "    \"couldn't\": \"could not\",\n",
    "    \"couldn't've\": \"could not have\",\n",
    "    \"didn't\": \"did not\",\n",
    "    \"doesn't\": \"does not\",\n",
    "    \"don't\": \"do not\",\n",
    "    \"hadn't\": \"had not\",\n",
    "    \"hadn't've\": \"had not have\",\n",
    "    \"hasn't\": \"has not\",\n",
    "    \"haven't\": \"have not\",\n",
    "    \"he'd\": \"he would\",\n",
    "    \"he'd've\": \"he would have\",\n",
    "    \"he'll\": \"he will\",\n",
    "    \"he'll've\": \"he will have\",\n",
    "    \"he's\": \"he is\",\n",
    "    \"how'd\": \"how did\",\n",
    "    \"how'd'y\": \"how do you\",\n",
    "    \"how'll\": \"how will\",\n",
    "    \"how's\": \"how is\",\n",
    "    \"i'd\": \"i would\",\n",
    "    \"i'd've\": \"i would have\",\n",
    "    \"i'll\": \"i will\",\n",
    "    \"i'll've\": \"i will have\",\n",
    "    \"i'm\": \"i am\",\n",
    "    \"i've\": \"i have\",\n",
    "    \"isn't\": \"is not\",\n",
    "    \"it'd\": \"it would\",\n",
    "    \"it'd've\": \"it would have\",\n",
    "    \"it'll\": \"it will\",\n",
    "    \"it'll've\": \"it will have\",\n",
    "    \"it's\": \"it is\",\n",
    "    \"let's\": \"let us\",\n",
    "    \"ma'am\": \"madam\",\n",
    "    \"mayn't\": \"may not\",\n",
    "    \"might've\": \"might have\",\n",
    "    \"mightn't\": \"might not\",\n",
    "    \"mightn't've\": \"might not have\",\n",
    "    \"must've\": \"must have\",\n",
    "    \"mustn't\": \"must not\",\n",
    "    \"mustn't've\": \"must not have\",\n",
    "    \"needn't\": \"need not\",\n",
    "    \"needn't've\": \"need not have\",\n",
    "    \"o'clock\": \"of the clock\",\n",
    "    \"oughtn't\": \"ought not\",\n",
    "    \"oughtn't've\": \"ought not have\",\n",
    "    \"shan't\": \"shall not\",\n",
    "    \"sha'n't\": \"shall not\",\n",
    "    \"shan't've\": \"shall not have\",\n",
    "    \"she'd\": \"she would\",\n",
    "    \"she'd've\": \"she would have\",\n",
    "    \"she'll\": \"she will\",\n",
    "    \"she'll've\": \"she will have\",\n",
    "    \"she's\": \"she is\",\n",
    "    \"should've\": \"should have\",\n",
    "    \"shouldn't\": \"should not\",\n",
    "    \"shouldn't've\": \"should not have\",\n",
    "    \"so've\": \"so have\",\n",
    "    \"so's\": \"so as\",\n",
    "    \"that'd\": \"that would\",\n",
    "    \"that'd've\": \"that would have\",\n",
    "    \"that's\": \"that is\",\n",
    "    \"there'd\": \"there would\",\n",
    "    \"there'd've\": \"there would have\",\n",
    "    \"there's\": \"there is\",\n",
    "    \"they'd\": \"they would\",\n",
    "    \"they'd've\": \"they would have\",\n",
    "    \"they'll\": \"they will\",\n",
    "    \"they'll've\": \"they will have\",\n",
    "    \"they're\": \"they are\",\n",
    "    \"they've\": \"they have\",\n",
    "    \"to've\": \"to have\",\n",
    "    \"wasn't\": \"was not\",\n",
    "    \"we'd\": \"we would\",\n",
    "    \"we'd've\": \"we would have\",\n",
    "    \"we'll\": \"we will\",\n",
    "    \"we'll've\": \"we will have\",\n",
    "    \"we're\": \"we are\",\n",
    "    \"we've\": \"we have\",\n",
    "    \"weren't\": \"were not\",\n",
    "    \"what'll\": \"what will\",\n",
    "    \"what'll've\": \"what will have\",\n",
    "    \"what're\": \"what are\",\n",
    "    \"what's\": \"what is\",\n",
    "    \"what've\": \"what have\",\n",
    "    \"when's\": \"when is\",\n",
    "    \"when've\": \"when have\",\n",
    "    \"where'd\": \"where did\",\n",
    "    \"where's\": \"where is\",\n",
    "    \"where've\": \"where have\",\n",
    "    \"who'll\": \"who will\",\n",
    "    \"who'll've\": \"who will have\",\n",
    "    \"who's\": \"who is\",\n",
    "    \"who've\": \"who have\",\n",
    "    \"why's\": \"why is\",\n",
    "    \"why've\": \"why have\",\n",
    "    \"will've\": \"will have\",\n",
    "    \"won't\": \"will not\",\n",
    "    \"won't've\": \"will not have\",\n",
    "    \"would've\": \"would have\",\n",
    "    \"wouldn't\": \"would not\",\n",
    "    \"wouldn't've\": \"would not have\",\n",
    "    \"y'all\": \"you all\",\n",
    "    \"y'all'd\": \"you all would\",\n",
    "    \"y'all'd've\": \"you all would have\",\n",
    "    \"y'all're\": \"you all are\",\n",
    "    \"y'all've\": \"you all have\",\n",
    "    \"you'd\": \"you would\",\n",
    "    \"you'd've\": \"you would have\",\n",
    "    \"you'll\": \"you will\",\n",
    "    \"you'll've\": \"you will have\",\n",
    "    \"you're\": \"you are\",\n",
    "    \"you've\": \"you have\"\n",
    "    }\n",
    "\n",
    "    data_decontracted = []\n",
    "\n",
    "    for word in data.split():\n",
    "        if word in contractions:\n",
    "            word = contractions[word]\n",
    "\n",
    "        data_decontracted.append(word)\n",
    "\n",
    "    data = ' '.join(data_decontracted)\n",
    "    data = data.replace(\"'ve\", \" have\")\n",
    "    data = data.replace(\"n't\", \" not\")\n",
    "    data = data.replace(\"'re\", \" are\")\n",
    "    data = data.replace(\"'ll\", \" will\")\n",
    "    \n",
    "    # Removing HTML tags\n",
    "    data = BeautifulSoup(data)\n",
    "    data = data.get_text()\n",
    "    \n",
    "    # Remove punctuations\n",
    "    pattern = re.compile('\\W')\n",
    "    data = re.sub(pattern, ' ', data).strip()\n",
    "\n",
    "    \n",
    "    return data"
   ]
  },
  {
   "cell_type": "code",
   "execution_count": 18,
   "metadata": {
    "execution": {
     "iopub.execute_input": "2022-08-09T16:09:58.542639Z",
     "iopub.status.busy": "2022-08-09T16:09:58.541905Z",
     "iopub.status.idle": "2022-08-09T16:10:09.444672Z",
     "shell.execute_reply": "2022-08-09T16:10:09.443726Z",
     "shell.execute_reply.started": "2022-08-09T16:09:58.542605Z"
    }
   },
   "outputs": [],
   "source": [
    "sample_data['question1'] = sample_data['question1'].apply(preprocess)\n",
    "sample_data['question2'] = sample_data['question2'].apply(preprocess)"
   ]
  },
  {
   "cell_type": "code",
   "execution_count": 19,
   "metadata": {
    "execution": {
     "iopub.execute_input": "2022-08-09T16:10:09.446732Z",
     "iopub.status.busy": "2022-08-09T16:10:09.446293Z",
     "iopub.status.idle": "2022-08-09T16:10:09.458285Z",
     "shell.execute_reply": "2022-08-09T16:10:09.457301Z",
     "shell.execute_reply.started": "2022-08-09T16:10:09.446681Z"
    }
   },
   "outputs": [],
   "source": [
    "sample_data.head()"
   ]
  },
  {
   "cell_type": "code",
   "execution_count": null,
   "metadata": {},
   "outputs": [],
   "source": []
  },
  {
   "cell_type": "markdown",
   "metadata": {},
   "source": [
    "## Tokenization"
   ]
  },
  {
   "cell_type": "code",
   "execution_count": 20,
   "metadata": {
    "execution": {
     "iopub.execute_input": "2022-08-09T16:10:09.460679Z",
     "iopub.status.busy": "2022-08-09T16:10:09.459975Z",
     "iopub.status.idle": "2022-08-09T16:10:09.735616Z",
     "shell.execute_reply": "2022-08-09T16:10:09.734473Z",
     "shell.execute_reply.started": "2022-08-09T16:10:09.460643Z"
    }
   },
   "outputs": [],
   "source": [
    "tokenized_question1 = sample_data['question1'].apply(lambda x: x.split()) #tokenizing\n",
    "tokenized_question1.head()"
   ]
  },
  {
   "cell_type": "code",
   "execution_count": 21,
   "metadata": {
    "execution": {
     "iopub.execute_input": "2022-08-09T16:10:09.737816Z",
     "iopub.status.busy": "2022-08-09T16:10:09.737411Z",
     "iopub.status.idle": "2022-08-09T16:10:09.784899Z",
     "shell.execute_reply": "2022-08-09T16:10:09.783597Z",
     "shell.execute_reply.started": "2022-08-09T16:10:09.737779Z"
    }
   },
   "outputs": [],
   "source": [
    "tokenized_question2 = sample_data['question2'].apply(lambda x: x.split()) #tokenizing\n",
    "tokenized_question2.head()"
   ]
  },
  {
   "cell_type": "code",
   "execution_count": null,
   "metadata": {},
   "outputs": [],
   "source": []
  },
  {
   "cell_type": "markdown",
   "metadata": {},
   "source": [
    "## Lemmatization"
   ]
  },
  {
   "cell_type": "code",
   "execution_count": 22,
   "metadata": {
    "execution": {
     "iopub.execute_input": "2022-08-09T16:10:09.786864Z",
     "iopub.status.busy": "2022-08-09T16:10:09.786324Z",
     "iopub.status.idle": "2022-08-09T16:10:11.505815Z",
     "shell.execute_reply": "2022-08-09T16:10:11.504760Z",
     "shell.execute_reply.started": "2022-08-09T16:10:09.786827Z"
    }
   },
   "outputs": [],
   "source": [
    "from nltk.stem import WordNetLemmatizer\n",
    "import nltk\n",
    "nltk.download('wordnet')\n",
    "nltk.download('omw-1.4')\n",
    "lemmaObj = WordNetLemmatizer()"
   ]
  },
  {
   "cell_type": "code",
   "execution_count": 23,
   "metadata": {
    "execution": {
     "iopub.execute_input": "2022-08-09T16:10:11.508390Z",
     "iopub.status.busy": "2022-08-09T16:10:11.507614Z",
     "iopub.status.idle": "2022-08-09T16:10:14.301409Z",
     "shell.execute_reply": "2022-08-09T16:10:14.300337Z",
     "shell.execute_reply.started": "2022-08-09T16:10:11.508351Z"
    }
   },
   "outputs": [],
   "source": [
    "lemma_tokenized_q1 = tokenized_question1.apply(lambda x: [lemmaObj.lemmatize(word,pos='v') for word in x])\n",
    "lemma_tokenized_q1.head()"
   ]
  },
  {
   "cell_type": "code",
   "execution_count": 24,
   "metadata": {
    "execution": {
     "iopub.execute_input": "2022-08-09T16:10:14.303295Z",
     "iopub.status.busy": "2022-08-09T16:10:14.302794Z",
     "iopub.status.idle": "2022-08-09T16:10:15.659231Z",
     "shell.execute_reply": "2022-08-09T16:10:15.658239Z",
     "shell.execute_reply.started": "2022-08-09T16:10:14.303259Z"
    }
   },
   "outputs": [],
   "source": [
    "lemma_tokenized_q2 = tokenized_question2.apply(lambda x: [lemmaObj.lemmatize(word,pos='v') for word in x])\n",
    "lemma_tokenized_q2.head()"
   ]
  },
  {
   "cell_type": "code",
   "execution_count": 25,
   "metadata": {
    "execution": {
     "iopub.execute_input": "2022-08-09T16:10:15.661051Z",
     "iopub.status.busy": "2022-08-09T16:10:15.660704Z",
     "iopub.status.idle": "2022-08-09T16:10:15.681342Z",
     "shell.execute_reply": "2022-08-09T16:10:15.680350Z",
     "shell.execute_reply.started": "2022-08-09T16:10:15.661017Z"
    }
   },
   "outputs": [],
   "source": [
    "sample_data['lemma_q1'] = lemma_tokenized_q1\n",
    "sample_data['lemma_q1'] = sample_data['lemma_q1'].apply(lambda x: ' '.join(x))"
   ]
  },
  {
   "cell_type": "code",
   "execution_count": 26,
   "metadata": {
    "execution": {
     "iopub.execute_input": "2022-08-09T16:10:15.683103Z",
     "iopub.status.busy": "2022-08-09T16:10:15.682595Z",
     "iopub.status.idle": "2022-08-09T16:10:15.709656Z",
     "shell.execute_reply": "2022-08-09T16:10:15.708533Z",
     "shell.execute_reply.started": "2022-08-09T16:10:15.683069Z"
    }
   },
   "outputs": [],
   "source": [
    "sample_data['lemma_q2'] = lemma_tokenized_q2\n",
    "sample_data['lemma_q2'] = sample_data['lemma_q2'].apply(lambda x: ' '.join(x))"
   ]
  },
  {
   "cell_type": "code",
   "execution_count": 27,
   "metadata": {
    "execution": {
     "iopub.execute_input": "2022-08-09T16:10:15.712329Z",
     "iopub.status.busy": "2022-08-09T16:10:15.711469Z",
     "iopub.status.idle": "2022-08-09T16:10:15.727770Z",
     "shell.execute_reply": "2022-08-09T16:10:15.726934Z",
     "shell.execute_reply.started": "2022-08-09T16:10:15.712288Z"
    }
   },
   "outputs": [],
   "source": [
    "sample_data.head()"
   ]
  },
  {
   "cell_type": "code",
   "execution_count": 28,
   "metadata": {
    "execution": {
     "iopub.execute_input": "2022-08-09T16:10:15.729622Z",
     "iopub.status.busy": "2022-08-09T16:10:15.729152Z",
     "iopub.status.idle": "2022-08-09T16:10:15.740195Z",
     "shell.execute_reply": "2022-08-09T16:10:15.739284Z",
     "shell.execute_reply.started": "2022-08-09T16:10:15.729588Z"
    }
   },
   "outputs": [],
   "source": [
    "new_df = sample_data.drop(['question1','question2'],axis=1)"
   ]
  },
  {
   "cell_type": "code",
   "execution_count": 29,
   "metadata": {
    "execution": {
     "iopub.execute_input": "2022-08-09T16:10:15.743851Z",
     "iopub.status.busy": "2022-08-09T16:10:15.741756Z",
     "iopub.status.idle": "2022-08-09T16:10:15.754660Z",
     "shell.execute_reply": "2022-08-09T16:10:15.753509Z",
     "shell.execute_reply.started": "2022-08-09T16:10:15.743817Z"
    }
   },
   "outputs": [],
   "source": [
    "new_df.head()"
   ]
  },
  {
   "cell_type": "code",
   "execution_count": null,
   "metadata": {},
   "outputs": [],
   "source": []
  },
  {
   "cell_type": "markdown",
   "metadata": {},
   "source": [
    "## Adding New Features\n",
    "1. q1 length\n",
    "2. q2 length\n",
    "3. q1_num_words\n",
    "4. q2_num_words\n",
    "5. common words\n",
    "6. total words\n",
    "7. words share - common words/total words"
   ]
  },
  {
   "cell_type": "code",
   "execution_count": 30,
   "metadata": {
    "execution": {
     "iopub.execute_input": "2022-08-09T16:10:15.762857Z",
     "iopub.status.busy": "2022-08-09T16:10:15.762590Z",
     "iopub.status.idle": "2022-08-09T16:10:15.787360Z",
     "shell.execute_reply": "2022-08-09T16:10:15.786515Z",
     "shell.execute_reply.started": "2022-08-09T16:10:15.762834Z"
    }
   },
   "outputs": [],
   "source": [
    "new_df['q1_len'] = new_df['lemma_q1'].str.len()\n",
    "new_df['q2_len'] = new_df['lemma_q2'].str.len()"
   ]
  },
  {
   "cell_type": "code",
   "execution_count": 31,
   "metadata": {
    "execution": {
     "iopub.execute_input": "2022-08-09T16:10:15.789278Z",
     "iopub.status.busy": "2022-08-09T16:10:15.788768Z",
     "iopub.status.idle": "2022-08-09T16:10:15.804635Z",
     "shell.execute_reply": "2022-08-09T16:10:15.803371Z",
     "shell.execute_reply.started": "2022-08-09T16:10:15.789243Z"
    }
   },
   "outputs": [],
   "source": [
    "new_df.head()"
   ]
  },
  {
   "cell_type": "code",
   "execution_count": 32,
   "metadata": {
    "execution": {
     "iopub.execute_input": "2022-08-09T16:10:15.806324Z",
     "iopub.status.busy": "2022-08-09T16:10:15.805985Z",
     "iopub.status.idle": "2022-08-09T16:10:15.861822Z",
     "shell.execute_reply": "2022-08-09T16:10:15.860999Z",
     "shell.execute_reply.started": "2022-08-09T16:10:15.806276Z"
    }
   },
   "outputs": [],
   "source": [
    "new_df['q1_num_words'] = new_df['lemma_q1'].apply(lambda row: len(row.split(\" \")))\n",
    "new_df['q2_num_words'] = new_df['lemma_q2'].apply(lambda row: len(row.split(\" \")))"
   ]
  },
  {
   "cell_type": "code",
   "execution_count": 33,
   "metadata": {
    "execution": {
     "iopub.execute_input": "2022-08-09T16:10:15.864739Z",
     "iopub.status.busy": "2022-08-09T16:10:15.863961Z",
     "iopub.status.idle": "2022-08-09T16:10:15.879603Z",
     "shell.execute_reply": "2022-08-09T16:10:15.878759Z",
     "shell.execute_reply.started": "2022-08-09T16:10:15.864704Z"
    }
   },
   "outputs": [],
   "source": [
    "new_df.head()"
   ]
  },
  {
   "cell_type": "code",
   "execution_count": 34,
   "metadata": {
    "execution": {
     "iopub.execute_input": "2022-08-09T16:10:15.883049Z",
     "iopub.status.busy": "2022-08-09T16:10:15.882742Z",
     "iopub.status.idle": "2022-08-09T16:10:15.889887Z",
     "shell.execute_reply": "2022-08-09T16:10:15.888342Z",
     "shell.execute_reply.started": "2022-08-09T16:10:15.883023Z"
    }
   },
   "outputs": [],
   "source": [
    "def common_words(row):\n",
    "    w1 = set(map(lambda word: word.lower().strip(), row['lemma_q1'].split(\" \")))\n",
    "    w2 = set(map(lambda word: word.lower().strip(), row['lemma_q2'].split(\" \")))    \n",
    "    return len(w1 & w2)"
   ]
  },
  {
   "cell_type": "code",
   "execution_count": 35,
   "metadata": {
    "execution": {
     "iopub.execute_input": "2022-08-09T16:10:15.892349Z",
     "iopub.status.busy": "2022-08-09T16:10:15.891385Z",
     "iopub.status.idle": "2022-08-09T16:10:16.449866Z",
     "shell.execute_reply": "2022-08-09T16:10:16.448782Z",
     "shell.execute_reply.started": "2022-08-09T16:10:15.892292Z"
    }
   },
   "outputs": [],
   "source": [
    "new_df['common_words'] = new_df.apply(common_words,axis=1)\n",
    "new_df.head()"
   ]
  },
  {
   "cell_type": "code",
   "execution_count": 36,
   "metadata": {
    "execution": {
     "iopub.execute_input": "2022-08-09T16:10:16.451859Z",
     "iopub.status.busy": "2022-08-09T16:10:16.451396Z",
     "iopub.status.idle": "2022-08-09T16:10:16.459375Z",
     "shell.execute_reply": "2022-08-09T16:10:16.457428Z",
     "shell.execute_reply.started": "2022-08-09T16:10:16.451823Z"
    }
   },
   "outputs": [],
   "source": [
    "def total_words(row):\n",
    "    w1 = set(map(lambda word: word.lower().strip(), row['lemma_q1'].split(\" \")))\n",
    "    w2 = set(map(lambda word: word.lower().strip(), row['lemma_q2'].split(\" \")))    \n",
    "    return (len(w1) + len(w2))"
   ]
  },
  {
   "cell_type": "code",
   "execution_count": 37,
   "metadata": {
    "execution": {
     "iopub.execute_input": "2022-08-09T16:10:16.461782Z",
     "iopub.status.busy": "2022-08-09T16:10:16.461138Z",
     "iopub.status.idle": "2022-08-09T16:10:17.016139Z",
     "shell.execute_reply": "2022-08-09T16:10:17.015189Z",
     "shell.execute_reply.started": "2022-08-09T16:10:16.461748Z"
    }
   },
   "outputs": [],
   "source": [
    "new_df['total_words'] = new_df.apply(total_words,axis=1)\n",
    "new_df.head()"
   ]
  },
  {
   "cell_type": "code",
   "execution_count": 38,
   "metadata": {
    "execution": {
     "iopub.execute_input": "2022-08-09T16:10:17.018192Z",
     "iopub.status.busy": "2022-08-09T16:10:17.017562Z",
     "iopub.status.idle": "2022-08-09T16:10:17.036121Z",
     "shell.execute_reply": "2022-08-09T16:10:17.035293Z",
     "shell.execute_reply.started": "2022-08-09T16:10:17.018156Z"
    }
   },
   "outputs": [],
   "source": [
    "new_df['word_share'] = round(new_df['common_words']/new_df['total_words'],2)\n",
    "new_df.head()"
   ]
  },
  {
   "cell_type": "code",
   "execution_count": 39,
   "metadata": {
    "execution": {
     "iopub.execute_input": "2022-08-09T16:10:17.037877Z",
     "iopub.status.busy": "2022-08-09T16:10:17.037538Z",
     "iopub.status.idle": "2022-08-09T16:10:17.526434Z",
     "shell.execute_reply": "2022-08-09T16:10:17.525465Z",
     "shell.execute_reply.started": "2022-08-09T16:10:17.037844Z"
    }
   },
   "outputs": [],
   "source": [
    "# Analysis of features\n",
    "sns.displot(new_df['q1_len'])\n",
    "print('minimum characters',new_df['q1_len'].min())\n",
    "print('maximum characters',new_df['q1_len'].max())\n",
    "print('average num of characters',int(new_df['q1_len'].mean()))"
   ]
  },
  {
   "cell_type": "code",
   "execution_count": 40,
   "metadata": {
    "execution": {
     "iopub.execute_input": "2022-08-09T16:10:17.528579Z",
     "iopub.status.busy": "2022-08-09T16:10:17.527955Z",
     "iopub.status.idle": "2022-08-09T16:10:18.066380Z",
     "shell.execute_reply": "2022-08-09T16:10:18.065213Z",
     "shell.execute_reply.started": "2022-08-09T16:10:17.528539Z"
    }
   },
   "outputs": [],
   "source": [
    "# common words\n",
    "sns.distplot(new_df[new_df['is_duplicate'] == 0]['common_words'],label='non duplicate')\n",
    "sns.distplot(new_df[new_df['is_duplicate'] == 1]['common_words'],label='duplicate')\n",
    "plt.legend()\n",
    "plt.show()"
   ]
  },
  {
   "cell_type": "code",
   "execution_count": 41,
   "metadata": {
    "execution": {
     "iopub.execute_input": "2022-08-09T16:10:18.068161Z",
     "iopub.status.busy": "2022-08-09T16:10:18.067828Z",
     "iopub.status.idle": "2022-08-09T16:10:18.630148Z",
     "shell.execute_reply": "2022-08-09T16:10:18.629227Z",
     "shell.execute_reply.started": "2022-08-09T16:10:18.068127Z"
    }
   },
   "outputs": [],
   "source": [
    "# total words\n",
    "sns.distplot(new_df[new_df['is_duplicate'] == 0]['total_words'],label='non duplicate')\n",
    "sns.distplot(new_df[new_df['is_duplicate'] == 1]['total_words'],label='duplicate')\n",
    "plt.legend()\n",
    "plt.show()"
   ]
  },
  {
   "cell_type": "code",
   "execution_count": 42,
   "metadata": {
    "execution": {
     "iopub.execute_input": "2022-08-09T16:10:18.632069Z",
     "iopub.status.busy": "2022-08-09T16:10:18.631573Z",
     "iopub.status.idle": "2022-08-09T16:10:19.091274Z",
     "shell.execute_reply": "2022-08-09T16:10:19.090232Z",
     "shell.execute_reply.started": "2022-08-09T16:10:18.632026Z"
    }
   },
   "outputs": [],
   "source": [
    "# word share\n",
    "sns.distplot(new_df[new_df['is_duplicate'] == 0]['word_share'],label='non duplicate')\n",
    "sns.distplot(new_df[new_df['is_duplicate'] == 1]['word_share'],label='duplicate')\n",
    "plt.legend()\n",
    "plt.show()"
   ]
  },
  {
   "cell_type": "markdown",
   "metadata": {},
   "source": [
    "## BOW - CountVectorizer"
   ]
  },
  {
   "cell_type": "code",
   "execution_count": 43,
   "metadata": {
    "execution": {
     "iopub.execute_input": "2022-08-09T16:10:19.093069Z",
     "iopub.status.busy": "2022-08-09T16:10:19.092619Z",
     "iopub.status.idle": "2022-08-09T16:10:19.906639Z",
     "shell.execute_reply": "2022-08-09T16:10:19.905657Z",
     "shell.execute_reply.started": "2022-08-09T16:10:19.093032Z"
    }
   },
   "outputs": [],
   "source": [
    "from sklearn.feature_extraction.text import CountVectorizer\n",
    "# merge texts\n",
    "questions = list(new_df['lemma_q1']) + list(new_df['lemma_q2'])\n",
    "\n",
    "cv = CountVectorizer(max_features=3000,stop_words='english')\n",
    "q1_arr, q2_arr = np.vsplit(cv.fit_transform(questions).toarray(),2)"
   ]
  },
  {
   "cell_type": "code",
   "execution_count": 44,
   "metadata": {
    "execution": {
     "iopub.execute_input": "2022-08-09T16:10:19.908608Z",
     "iopub.status.busy": "2022-08-09T16:10:19.908138Z",
     "iopub.status.idle": "2022-08-09T16:10:19.915924Z",
     "shell.execute_reply": "2022-08-09T16:10:19.914450Z",
     "shell.execute_reply.started": "2022-08-09T16:10:19.908565Z"
    }
   },
   "outputs": [],
   "source": [
    "q1_arr_df = pd.DataFrame(q1_arr, index = new_df.index)\n",
    "q2_arr_df = pd.DataFrame(q2_arr, index = new_df.index)\n",
    "print(q1_arr_df.shape,q2_arr_df.shape)"
   ]
  },
  {
   "cell_type": "code",
   "execution_count": 45,
   "metadata": {
    "execution": {
     "iopub.execute_input": "2022-08-09T16:10:19.918103Z",
     "iopub.status.busy": "2022-08-09T16:10:19.917103Z",
     "iopub.status.idle": "2022-08-09T16:10:22.181009Z",
     "shell.execute_reply": "2022-08-09T16:10:22.180129Z",
     "shell.execute_reply.started": "2022-08-09T16:10:19.918069Z"
    }
   },
   "outputs": [],
   "source": [
    "questions_vectors_df = pd.concat([q1_arr_df,q2_arr_df],axis=1)\n",
    "questions_vectors_df.shape"
   ]
  },
  {
   "cell_type": "code",
   "execution_count": 46,
   "metadata": {
    "execution": {
     "iopub.execute_input": "2022-08-09T16:10:22.187388Z",
     "iopub.status.busy": "2022-08-09T16:10:22.184073Z",
     "iopub.status.idle": "2022-08-09T16:10:22.211985Z",
     "shell.execute_reply": "2022-08-09T16:10:22.211190Z",
     "shell.execute_reply.started": "2022-08-09T16:10:22.187352Z"
    }
   },
   "outputs": [],
   "source": [
    "questions_vectors_df.head()"
   ]
  },
  {
   "cell_type": "markdown",
   "metadata": {},
   "source": [
    "## TFIDF"
   ]
  },
  {
   "cell_type": "code",
   "execution_count": 47,
   "metadata": {
    "execution": {
     "iopub.execute_input": "2022-08-09T16:10:22.219540Z",
     "iopub.status.busy": "2022-08-09T16:10:22.216435Z",
     "iopub.status.idle": "2022-08-09T16:10:23.514684Z",
     "shell.execute_reply": "2022-08-09T16:10:23.513695Z",
     "shell.execute_reply.started": "2022-08-09T16:10:22.219505Z"
    }
   },
   "outputs": [],
   "source": [
    "tfidf_cv = TfidfVectorizer(max_features=3000,stop_words='english')\n",
    "tf_q1_arr, tf_q2_arr = np.vsplit(tfidf_cv.fit_transform(questions).toarray(),2)"
   ]
  },
  {
   "cell_type": "code",
   "execution_count": 48,
   "metadata": {
    "execution": {
     "iopub.execute_input": "2022-08-09T16:10:23.516527Z",
     "iopub.status.busy": "2022-08-09T16:10:23.515971Z",
     "iopub.status.idle": "2022-08-09T16:10:23.523669Z",
     "shell.execute_reply": "2022-08-09T16:10:23.522703Z",
     "shell.execute_reply.started": "2022-08-09T16:10:23.516490Z"
    }
   },
   "outputs": [],
   "source": [
    "tf_q1_arr_df = pd.DataFrame(tf_q1_arr, index = new_df.index)\n",
    "tf_q2_arr_df = pd.DataFrame(tf_q2_arr, index = new_df.index)\n",
    "print(tf_q1_arr_df.shape,tf_q2_arr_df.shape)"
   ]
  },
  {
   "cell_type": "code",
   "execution_count": 49,
   "metadata": {
    "execution": {
     "iopub.execute_input": "2022-08-09T16:10:23.525836Z",
     "iopub.status.busy": "2022-08-09T16:10:23.524867Z",
     "iopub.status.idle": "2022-08-09T16:10:25.734566Z",
     "shell.execute_reply": "2022-08-09T16:10:25.733297Z",
     "shell.execute_reply.started": "2022-08-09T16:10:23.525802Z"
    }
   },
   "outputs": [],
   "source": [
    "questions_tf_vectors_df = pd.concat([tf_q1_arr_df,tf_q2_arr_df],axis=1)\n",
    "questions_tf_vectors_df.shape"
   ]
  },
  {
   "cell_type": "code",
   "execution_count": 50,
   "metadata": {
    "execution": {
     "iopub.execute_input": "2022-08-09T16:10:25.736370Z",
     "iopub.status.busy": "2022-08-09T16:10:25.735953Z",
     "iopub.status.idle": "2022-08-09T16:10:25.767363Z",
     "shell.execute_reply": "2022-08-09T16:10:25.766370Z",
     "shell.execute_reply.started": "2022-08-09T16:10:25.736302Z"
    }
   },
   "outputs": [],
   "source": [
    "questions_tf_vectors_df.head()"
   ]
  },
  {
   "cell_type": "markdown",
   "metadata": {},
   "source": [
    "## Drop Unnecessary Features and Concatinate the data"
   ]
  },
  {
   "cell_type": "code",
   "execution_count": 51,
   "metadata": {
    "execution": {
     "iopub.execute_input": "2022-08-09T16:10:25.769259Z",
     "iopub.status.busy": "2022-08-09T16:10:25.768882Z",
     "iopub.status.idle": "2022-08-09T16:10:25.782924Z",
     "shell.execute_reply": "2022-08-09T16:10:25.781803Z",
     "shell.execute_reply.started": "2022-08-09T16:10:25.769223Z"
    }
   },
   "outputs": [],
   "source": [
    "final_df = new_df.drop(columns=['id','qid1','qid2','lemma_q1','lemma_q2'])\n",
    "print(final_df.shape)\n",
    "final_df.head()"
   ]
  },
  {
   "cell_type": "code",
   "execution_count": 52,
   "metadata": {
    "execution": {
     "iopub.execute_input": "2022-08-09T16:10:25.785369Z",
     "iopub.status.busy": "2022-08-09T16:10:25.784642Z",
     "iopub.status.idle": "2022-08-09T16:10:26.717850Z",
     "shell.execute_reply": "2022-08-09T16:10:26.716869Z",
     "shell.execute_reply.started": "2022-08-09T16:10:25.785334Z"
    }
   },
   "outputs": [],
   "source": [
    "tfidf_final_df = pd.concat([final_df, questions_tf_vectors_df], axis=1)\n",
    "count_final_df = pd.concat([final_df, questions_vectors_df], axis=1)"
   ]
  },
  {
   "cell_type": "code",
   "execution_count": 53,
   "metadata": {
    "execution": {
     "iopub.execute_input": "2022-08-09T16:10:26.719787Z",
     "iopub.status.busy": "2022-08-09T16:10:26.719247Z",
     "iopub.status.idle": "2022-08-09T16:10:26.754202Z",
     "shell.execute_reply": "2022-08-09T16:10:26.753364Z",
     "shell.execute_reply.started": "2022-08-09T16:10:26.719751Z"
    }
   },
   "outputs": [],
   "source": [
    "tfidf_final_df.head()"
   ]
  },
  {
   "cell_type": "code",
   "execution_count": 54,
   "metadata": {
    "execution": {
     "iopub.execute_input": "2022-08-09T16:10:26.756036Z",
     "iopub.status.busy": "2022-08-09T16:10:26.755522Z",
     "iopub.status.idle": "2022-08-09T16:10:27.114836Z",
     "shell.execute_reply": "2022-08-09T16:10:27.113833Z",
     "shell.execute_reply.started": "2022-08-09T16:10:26.756000Z"
    }
   },
   "outputs": [],
   "source": [
    "X = tfidf_final_df.iloc[:,1:]\n",
    "y = tfidf_final_df.iloc[:,0]"
   ]
  },
  {
   "cell_type": "markdown",
   "metadata": {},
   "source": [
    "## Model Building"
   ]
  },
  {
   "cell_type": "code",
   "execution_count": 55,
   "metadata": {
    "execution": {
     "iopub.execute_input": "2022-08-09T16:10:27.116659Z",
     "iopub.status.busy": "2022-08-09T16:10:27.116254Z",
     "iopub.status.idle": "2022-08-09T16:10:27.122132Z",
     "shell.execute_reply": "2022-08-09T16:10:27.121144Z",
     "shell.execute_reply.started": "2022-08-09T16:10:27.116611Z"
    }
   },
   "outputs": [],
   "source": [
    "from sklearn.ensemble import RandomForestClassifier\n",
    "from sklearn.linear_model import LogisticRegression\n",
    "from sklearn.metrics import accuracy_score, classification_report, confusion_matrix\n",
    "from sklearn.model_selection import cross_val_score"
   ]
  },
  {
   "cell_type": "code",
   "execution_count": 58,
   "metadata": {
    "execution": {
     "iopub.execute_input": "2022-08-09T16:11:57.105122Z",
     "iopub.status.busy": "2022-08-09T16:11:57.104536Z",
     "iopub.status.idle": "2022-08-09T16:11:57.118654Z",
     "shell.execute_reply": "2022-08-09T16:11:57.117482Z",
     "shell.execute_reply.started": "2022-08-09T16:11:57.105082Z"
    }
   },
   "outputs": [],
   "source": [
    "X.shape"
   ]
  },
  {
   "cell_type": "code",
   "execution_count": 60,
   "metadata": {
    "execution": {
     "iopub.execute_input": "2022-08-09T16:12:08.189743Z",
     "iopub.status.busy": "2022-08-09T16:12:08.188928Z",
     "iopub.status.idle": "2022-08-09T16:12:08.197004Z",
     "shell.execute_reply": "2022-08-09T16:12:08.195843Z",
     "shell.execute_reply.started": "2022-08-09T16:12:08.189708Z"
    }
   },
   "outputs": [],
   "source": [
    "y.shape"
   ]
  },
  {
   "cell_type": "code",
   "execution_count": 61,
   "metadata": {
    "execution": {
     "iopub.execute_input": "2022-08-09T16:12:14.110399Z",
     "iopub.status.busy": "2022-08-09T16:12:14.109931Z",
     "iopub.status.idle": "2022-08-09T16:12:17.587250Z",
     "shell.execute_reply": "2022-08-09T16:12:17.586093Z",
     "shell.execute_reply.started": "2022-08-09T16:12:14.110358Z"
    }
   },
   "outputs": [],
   "source": [
    "from sklearn.model_selection import train_test_split\n",
    "X_train,X_test,y_train,y_test = train_test_split(X,y,test_size=0.3,random_state=1)"
   ]
  },
  {
   "cell_type": "markdown",
   "metadata": {},
   "source": [
    "## Random Forest "
   ]
  },
  {
   "cell_type": "code",
   "execution_count": 63,
   "metadata": {
    "execution": {
     "iopub.execute_input": "2022-08-09T16:13:30.932177Z",
     "iopub.status.busy": "2022-08-09T16:13:30.931612Z",
     "iopub.status.idle": "2022-08-09T16:18:04.827757Z",
     "shell.execute_reply": "2022-08-09T16:18:04.826626Z",
     "shell.execute_reply.started": "2022-08-09T16:13:30.932140Z"
    }
   },
   "outputs": [],
   "source": [
    "rf = RandomForestClassifier()\n",
    "rf.fit(X_train,y_train)\n",
    "np.mean(cross_val_score(rf,X_train,y_train,scoring = 'accuracy', cv= 5))"
   ]
  },
  {
   "cell_type": "code",
   "execution_count": 64,
   "metadata": {
    "execution": {
     "iopub.execute_input": "2022-08-09T16:18:04.830243Z",
     "iopub.status.busy": "2022-08-09T16:18:04.829866Z",
     "iopub.status.idle": "2022-08-09T16:18:05.798483Z",
     "shell.execute_reply": "2022-08-09T16:18:05.797378Z",
     "shell.execute_reply.started": "2022-08-09T16:18:04.830205Z"
    }
   },
   "outputs": [],
   "source": [
    "rf.score(X_test,y_test)"
   ]
  },
  {
   "cell_type": "code",
   "execution_count": null,
   "metadata": {},
   "outputs": [],
   "source": [
    "y_pred = rf.predict(X_test)"
   ]
  },
  {
   "cell_type": "code",
   "execution_count": 70,
   "metadata": {
    "execution": {
     "iopub.execute_input": "2022-08-09T16:19:31.449213Z",
     "iopub.status.busy": "2022-08-09T16:19:31.448324Z",
     "iopub.status.idle": "2022-08-09T16:19:31.454260Z",
     "shell.execute_reply": "2022-08-09T16:19:31.453288Z",
     "shell.execute_reply.started": "2022-08-09T16:19:31.449166Z"
    }
   },
   "outputs": [],
   "source": [
    "print(\"Confusion Matrix:\")\n",
    "print(confusion_matrix(y_test,y_pred))\n",
    "\n",
    "print(\"\\nClassification Report\")\n",
    "print(classification_report(y_test,y_pred))"
   ]
  },
  {
   "cell_type": "markdown",
   "metadata": {},
   "source": [
    "## Predictions"
   ]
  },
  {
   "cell_type": "code",
   "execution_count": 71,
   "metadata": {
    "execution": {
     "iopub.execute_input": "2022-08-09T16:19:34.303222Z",
     "iopub.status.busy": "2022-08-09T16:19:34.302865Z",
     "iopub.status.idle": "2022-08-09T16:19:34.309229Z",
     "shell.execute_reply": "2022-08-09T16:19:34.308209Z",
     "shell.execute_reply.started": "2022-08-09T16:19:34.303191Z"
    }
   },
   "outputs": [],
   "source": [
    "def test_common_words(q1,q2):\n",
    "    w1 = set(map(lambda word: word.lower().strip(), q1.split(\" \")))\n",
    "    w2 = set(map(lambda word: word.lower().strip(), q2.split(\" \")))    \n",
    "    return len(w1 & w2)"
   ]
  },
  {
   "cell_type": "code",
   "execution_count": 72,
   "metadata": {
    "execution": {
     "iopub.execute_input": "2022-08-09T16:19:35.698091Z",
     "iopub.status.busy": "2022-08-09T16:19:35.697742Z",
     "iopub.status.idle": "2022-08-09T16:19:35.705583Z",
     "shell.execute_reply": "2022-08-09T16:19:35.704349Z",
     "shell.execute_reply.started": "2022-08-09T16:19:35.698062Z"
    }
   },
   "outputs": [],
   "source": [
    "def test_total_words(q1,q2):\n",
    "    w1 = set(map(lambda word: word.lower().strip(), q1.split(\" \")))\n",
    "    w2 = set(map(lambda word: word.lower().strip(), q2.split(\" \")))    \n",
    "    return (len(w1) + len(w2))"
   ]
  },
  {
   "cell_type": "code",
   "execution_count": 73,
   "metadata": {
    "execution": {
     "iopub.execute_input": "2022-08-09T16:19:36.788050Z",
     "iopub.status.busy": "2022-08-09T16:19:36.787696Z",
     "iopub.status.idle": "2022-08-09T16:19:36.798179Z",
     "shell.execute_reply": "2022-08-09T16:19:36.796390Z",
     "shell.execute_reply.started": "2022-08-09T16:19:36.788019Z"
    }
   },
   "outputs": [],
   "source": [
    "def preprocessing(q1,q2):\n",
    "    \n",
    "    input_data = []\n",
    "    \n",
    "    # preprocess\n",
    "    q1 = preprocess(q1)\n",
    "    q2 = preprocess(q2)\n",
    "    \n",
    "    # fetch basic features\n",
    "    input_data.append(len(q1))\n",
    "    input_data.append(len(q2))\n",
    "    \n",
    "    input_data.append(len(q1.split(\" \")))\n",
    "    input_data.append(len(q2.split(\" \")))\n",
    "    \n",
    "    input_data.append(test_common_words(q1,q2))\n",
    "    input_data.append(test_total_words(q1,q2))\n",
    "    input_data.append(round(test_common_words(q1,q2)/test_total_words(q1,q2),2))\n",
    "    \n",
    "    # bow feature for q1\n",
    "    q1_bow = cv.transform([q1]).toarray()\n",
    "    \n",
    "    # bow feature for q2\n",
    "    q2_bow = cv.transform([q2]).toarray()\n",
    "    \n",
    "    \n",
    "    \n",
    "    return np.hstack((np.array(input_data).reshape(1,7),q1_bow,q2_bow))\n",
    "    \n",
    "    \n",
    "    "
   ]
  },
  {
   "cell_type": "code",
   "execution_count": 74,
   "metadata": {
    "execution": {
     "iopub.execute_input": "2022-08-09T16:19:37.273330Z",
     "iopub.status.busy": "2022-08-09T16:19:37.272736Z",
     "iopub.status.idle": "2022-08-09T16:19:37.278247Z",
     "shell.execute_reply": "2022-08-09T16:19:37.277232Z",
     "shell.execute_reply.started": "2022-08-09T16:19:37.273274Z"
    }
   },
   "outputs": [],
   "source": [
    "q1 = 'Where is the capital of India?'\n",
    "q2 = 'How to make money from online?'\n",
    "q3 = 'Which city serves as the capital of India?'\n",
    "q4 = 'What is the business capital of India?'"
   ]
  },
  {
   "cell_type": "code",
   "execution_count": 75,
   "metadata": {
    "execution": {
     "iopub.execute_input": "2022-08-09T16:19:37.633666Z",
     "iopub.status.busy": "2022-08-09T16:19:37.632669Z",
     "iopub.status.idle": "2022-08-09T16:19:37.656393Z",
     "shell.execute_reply": "2022-08-09T16:19:37.655369Z",
     "shell.execute_reply.started": "2022-08-09T16:19:37.633625Z"
    }
   },
   "outputs": [],
   "source": [
    "rf.predict(preprocessing(q1,q4))"
   ]
  },
  {
   "cell_type": "code",
   "execution_count": 78,
   "metadata": {
    "execution": {
     "iopub.execute_input": "2022-08-09T16:24:37.413454Z",
     "iopub.status.busy": "2022-08-09T16:24:37.413062Z",
     "iopub.status.idle": "2022-08-09T16:24:37.516693Z",
     "shell.execute_reply": "2022-08-09T16:24:37.515721Z",
     "shell.execute_reply.started": "2022-08-09T16:24:37.413422Z"
    }
   },
   "outputs": [],
   "source": [
    "import pickle\n",
    "\n",
    "pickle.dump(rf,open('model.pkl','wb'))\n",
    "pickle.dump(tfidf_cv,open('tfidf_cv.pkl','wb'))"
   ]
  }
 ],
 "metadata": {
  "kernelspec": {
   "display_name": "Python 3 (ipykernel)",
   "language": "python",
   "name": "python3"
  },
  "language_info": {
   "codemirror_mode": {
    "name": "ipython",
    "version": 3
   },
   "file_extension": ".py",
   "mimetype": "text/x-python",
   "name": "python",
   "nbconvert_exporter": "python",
   "pygments_lexer": "ipython3",
   "version": "3.9.12"
  }
 },
 "nbformat": 4,
 "nbformat_minor": 4
}
